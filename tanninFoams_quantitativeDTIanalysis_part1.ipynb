{
 "cells": [
  {
   "cell_type": "code",
   "execution_count": 56,
   "metadata": {},
   "outputs": [],
   "source": [
    "import os\n",
    "import numpy as np\n",
    "import pandas as pd\n",
    "import matplotlib.pyplot as plt \n",
    "%matplotlib inline"
   ]
  },
  {
   "cell_type": "markdown",
   "metadata": {},
   "source": [
    "# Filter datasets"
   ]
  },
  {
   "cell_type": "code",
   "execution_count": 57,
   "metadata": {},
   "outputs": [],
   "source": [
    "voxel_size = 2*2*2 # um3\n",
    "boundingBoxVolume = 1400*1400*1800*voxel_size"
   ]
  },
  {
   "cell_type": "markdown",
   "metadata": {},
   "source": [
    "### Import Data"
   ]
  },
  {
   "cell_type": "code",
   "execution_count": 58,
   "metadata": {},
   "outputs": [
    {
     "data": {
      "text/html": [
       "<div>\n",
       "<style scoped>\n",
       "    .dataframe tbody tr th:only-of-type {\n",
       "        vertical-align: middle;\n",
       "    }\n",
       "\n",
       "    .dataframe tbody tr th {\n",
       "        vertical-align: top;\n",
       "    }\n",
       "\n",
       "    .dataframe thead th {\n",
       "        text-align: right;\n",
       "    }\n",
       "</style>\n",
       "<table border=\"1\" class=\"dataframe\">\n",
       "  <thead>\n",
       "    <tr style=\"text-align: right;\">\n",
       "      <th></th>\n",
       "      <th>Volume3d</th>\n",
       "      <th>BaryCenterX</th>\n",
       "      <th>BaryCenterY</th>\n",
       "      <th>BaryCenterZ</th>\n",
       "      <th>Anisotropy</th>\n",
       "      <th>Elongation</th>\n",
       "      <th>Flatness</th>\n",
       "      <th>EigenVal1</th>\n",
       "      <th>EigenVal2</th>\n",
       "      <th>EigenVal3</th>\n",
       "      <th>...</th>\n",
       "      <th>BinMom2x</th>\n",
       "      <th>BinMom2y</th>\n",
       "      <th>BinMom2z</th>\n",
       "      <th>BinMomxy</th>\n",
       "      <th>BinMomxz</th>\n",
       "      <th>BinMomyz</th>\n",
       "      <th>VoxelFaceArea</th>\n",
       "      <th>BorderVoxelCount</th>\n",
       "      <th>GreyMass</th>\n",
       "      <th>index</th>\n",
       "    </tr>\n",
       "  </thead>\n",
       "  <tbody>\n",
       "    <tr>\n",
       "      <th>0</th>\n",
       "      <td>348072.0</td>\n",
       "      <td>2794.56</td>\n",
       "      <td>2911.65</td>\n",
       "      <td>52.7270</td>\n",
       "      <td>0.423501</td>\n",
       "      <td>0.737198</td>\n",
       "      <td>0.782014</td>\n",
       "      <td>516.051</td>\n",
       "      <td>380.432</td>\n",
       "      <td>297.503</td>\n",
       "      <td>...</td>\n",
       "      <td>396.537</td>\n",
       "      <td>318.770</td>\n",
       "      <td>478.679</td>\n",
       "      <td>10.04870</td>\n",
       "      <td>57.29140</td>\n",
       "      <td>-48.93450</td>\n",
       "      <td>39128.0</td>\n",
       "      <td>0</td>\n",
       "      <td>348072.0</td>\n",
       "      <td>1</td>\n",
       "    </tr>\n",
       "    <tr>\n",
       "      <th>1</th>\n",
       "      <td>230288.0</td>\n",
       "      <td>2560.86</td>\n",
       "      <td>3232.19</td>\n",
       "      <td>34.7108</td>\n",
       "      <td>0.374766</td>\n",
       "      <td>0.820018</td>\n",
       "      <td>0.762464</td>\n",
       "      <td>366.441</td>\n",
       "      <td>300.488</td>\n",
       "      <td>229.111</td>\n",
       "      <td>...</td>\n",
       "      <td>366.143</td>\n",
       "      <td>300.531</td>\n",
       "      <td>229.367</td>\n",
       "      <td>3.34024</td>\n",
       "      <td>4.34109</td>\n",
       "      <td>-2.79324</td>\n",
       "      <td>27400.0</td>\n",
       "      <td>0</td>\n",
       "      <td>460576.0</td>\n",
       "      <td>2</td>\n",
       "    </tr>\n",
       "  </tbody>\n",
       "</table>\n",
       "<p>2 rows × 35 columns</p>\n",
       "</div>"
      ],
      "text/plain": [
       "   Volume3d  BaryCenterX  BaryCenterY  BaryCenterZ  Anisotropy  Elongation  \\\n",
       "0  348072.0      2794.56      2911.65      52.7270    0.423501    0.737198   \n",
       "1  230288.0      2560.86      3232.19      34.7108    0.374766    0.820018   \n",
       "\n",
       "   Flatness  EigenVal1  EigenVal2  EigenVal3  ...  BinMom2x  BinMom2y  \\\n",
       "0  0.782014    516.051    380.432    297.503  ...   396.537   318.770   \n",
       "1  0.762464    366.441    300.488    229.111  ...   366.143   300.531   \n",
       "\n",
       "   BinMom2z  BinMomxy  BinMomxz  BinMomyz  VoxelFaceArea  BorderVoxelCount  \\\n",
       "0   478.679  10.04870  57.29140 -48.93450        39128.0                 0   \n",
       "1   229.367   3.34024   4.34109  -2.79324        27400.0                 0   \n",
       "\n",
       "   GreyMass  index  \n",
       "0  348072.0      1  \n",
       "1  460576.0      2  \n",
       "\n",
       "[2 rows x 35 columns]"
      ]
     },
     "execution_count": 58,
     "metadata": {},
     "output_type": "execute_result"
    }
   ],
   "source": [
    "mechanical_file = 'mechanical.Label-Analysis.borderkill.csv'\n",
    "nitric_file = 'nitricAcid.Label-Analysis.borderkill.csv'\n",
    "sulfuric_file = 'sulfuricAcid.Label-Analysis.borderkill.csv'\n",
    "green_file = 'green.Label-Analysis.borderkill.csv'\n",
    "pink_file = 'pink.Label-Analysis.borderkill.csv'\n",
    "\n",
    "# Import Foam table \n",
    "mechanical = pd.read_csv((mechanical_file))#,sep = ';')\n",
    "nitric = pd.read_csv((nitric_file))\n",
    "sulfuric = pd.read_csv((sulfuric_file))\n",
    "green = pd.read_csv((green_file))\n",
    "pink = pd.read_csv((pink_file))\n",
    "\n",
    "mechanical.head(2)"
   ]
  },
  {
   "cell_type": "markdown",
   "metadata": {},
   "source": [
    "Number of pores before filtering"
   ]
  },
  {
   "cell_type": "code",
   "execution_count": 59,
   "metadata": {},
   "outputs": [],
   "source": [
    "mechanical_numpores = mechanical.shape[0]\n",
    "nitric_numPores = nitric.shape[0]\n",
    "sulfuric_numPores = sulfuric.shape[0]\n",
    "green_numPores = green.shape[0]\n",
    "pink_numPores = pink.shape[0]"
   ]
  },
  {
   "cell_type": "markdown",
   "metadata": {},
   "source": [
    "### Data Cleaning\n",
    "\n",
    "Level of significity: \\\n",
    "Volume3d > 1e-06 mm3\n",
    "\n",
    "considering a minicube of 3x3x3 (27vxs), 8um3 --> 27x8 = 216 um3 \\\n",
    "considering a minicube of 4x4x4 (64vxs), 8um3 --> 64x8 = 512 um3 \\\n",
    "considering a minicube of 5x5x5 (125vxs), 8um3 --> 125x8 = 1000 um3 = 1e-06 mm3\n"
   ]
  },
  {
   "cell_type": "code",
   "execution_count": 60,
   "metadata": {},
   "outputs": [
    {
     "name": "stdout",
     "output_type": "stream",
     "text": [
      "Mechanical: Number of pores before: 4886 and after filtering: 3810\n",
      "Nitric: Number of pores before: 777 and after filtering: 759\n",
      "Sulfuric: Number of pores before: 4868 and after filtering: 4829\n",
      "Green: Number of pores before: 829 and after filtering: 427\n",
      "Pink: Number of pores before: 679 and after filtering: 679\n"
     ]
    }
   ],
   "source": [
    "min_volumeCube = 512\n",
    "\n",
    "mechanical_filt = mechanical[mechanical['Volume3d'] >= min_volumeCube]\n",
    "nitric_filt = nitric[nitric['Volume3d'] >= min_volumeCube]\n",
    "sulfuric_filt = sulfuric[sulfuric['Volume3d'] >= min_volumeCube]\n",
    "green_filt = green[green['Volume3d'] >= min_volumeCube]\n",
    "pink_filt = pink[pink['Volume3d'] >= min_volumeCube]\n",
    "\n",
    "print('Mechanical: Number of pores before: ' + str(mechanical_numpores) + ' and after filtering: ' + str(mechanical_filt.shape[0]))\n",
    "print('Nitric: Number of pores before: ' + str(nitric_numPores) + ' and after filtering: ' + str(nitric_filt.shape[0]))\n",
    "print('Sulfuric: Number of pores before: ' + str(sulfuric_numPores) + ' and after filtering: ' + str(sulfuric_filt.shape[0]))\n",
    "print('Green: Number of pores before: ' + str(green_numPores) + ' and after filtering: ' + str(green_filt.shape[0]))\n",
    "print('Pink: Number of pores before: ' + str(pink_numPores) + ' and after filtering: ' + str(pink_filt.shape[0]))"
   ]
  },
  {
   "cell_type": "code",
   "execution_count": 61,
   "metadata": {},
   "outputs": [
    {
     "name": "stdout",
     "output_type": "stream",
     "text": [
      "Mechanical: Number of pores before: 4886 and after filtering: 3596\n",
      "Nitric: Number of pores before: 777 and after filtering: 759\n",
      "Sulfuric: Number of pores before: 4868 and after filtering: 4810\n",
      "Green: Number of pores before: 829 and after filtering: 339\n",
      "Pink: Number of pores before: 679 and after filtering: 679\n"
     ]
    }
   ],
   "source": [
    "min_volumeCube = 1000\n",
    "\n",
    "mechanical_filt = mechanical[mechanical['Volume3d'] >= min_volumeCube]\n",
    "nitric_filt = nitric[nitric['Volume3d'] >= min_volumeCube]\n",
    "sulfuric_filt = sulfuric[sulfuric['Volume3d'] >= min_volumeCube]\n",
    "green_filt = green[green['Volume3d'] >= min_volumeCube]\n",
    "pink_filt = pink[pink['Volume3d'] >= min_volumeCube]\n",
    "\n",
    "print('Mechanical: Number of pores before: ' + str(mechanical_numpores) + ' and after filtering: ' + str(mechanical_filt.shape[0]))\n",
    "print('Nitric: Number of pores before: ' + str(nitric_numPores) + ' and after filtering: ' + str(nitric_filt.shape[0]))\n",
    "print('Sulfuric: Number of pores before: ' + str(sulfuric_numPores) + ' and after filtering: ' + str(sulfuric_filt.shape[0]))\n",
    "print('Green: Number of pores before: ' + str(green_numPores) + ' and after filtering: ' + str(green_filt.shape[0]))\n",
    "print('Pink: Number of pores before: ' + str(pink_numPores) + ' and after filtering: ' + str(pink_filt.shape[0]))"
   ]
  },
  {
   "cell_type": "code",
   "execution_count": 62,
   "metadata": {},
   "outputs": [
    {
     "data": {
      "text/html": [
       "<div>\n",
       "<style scoped>\n",
       "    .dataframe tbody tr th:only-of-type {\n",
       "        vertical-align: middle;\n",
       "    }\n",
       "\n",
       "    .dataframe tbody tr th {\n",
       "        vertical-align: top;\n",
       "    }\n",
       "\n",
       "    .dataframe thead th {\n",
       "        text-align: right;\n",
       "    }\n",
       "</style>\n",
       "<table border=\"1\" class=\"dataframe\">\n",
       "  <thead>\n",
       "    <tr style=\"text-align: right;\">\n",
       "      <th></th>\n",
       "      <th>Volume3d</th>\n",
       "      <th>BaryCenterX</th>\n",
       "      <th>BaryCenterY</th>\n",
       "      <th>BaryCenterZ</th>\n",
       "      <th>Anisotropy</th>\n",
       "      <th>Elongation</th>\n",
       "      <th>Flatness</th>\n",
       "      <th>VoxelFaceArea</th>\n",
       "      <th>GreyMass</th>\n",
       "    </tr>\n",
       "  </thead>\n",
       "  <tbody>\n",
       "    <tr>\n",
       "      <th>0</th>\n",
       "      <td>3540000.0</td>\n",
       "      <td>2766.42</td>\n",
       "      <td>2503.73</td>\n",
       "      <td>153.622</td>\n",
       "      <td>0.771140</td>\n",
       "      <td>0.364272</td>\n",
       "      <td>0.628266</td>\n",
       "      <td>221096.0</td>\n",
       "      <td>3540000.0</td>\n",
       "    </tr>\n",
       "    <tr>\n",
       "      <th>1</th>\n",
       "      <td>12300000.0</td>\n",
       "      <td>2694.79</td>\n",
       "      <td>1645.36</td>\n",
       "      <td>169.967</td>\n",
       "      <td>0.582527</td>\n",
       "      <td>0.758095</td>\n",
       "      <td>0.550686</td>\n",
       "      <td>460792.0</td>\n",
       "      <td>24700000.0</td>\n",
       "    </tr>\n",
       "  </tbody>\n",
       "</table>\n",
       "</div>"
      ],
      "text/plain": [
       "     Volume3d  BaryCenterX  BaryCenterY  BaryCenterZ  Anisotropy  Elongation  \\\n",
       "0   3540000.0      2766.42      2503.73      153.622    0.771140    0.364272   \n",
       "1  12300000.0      2694.79      1645.36      169.967    0.582527    0.758095   \n",
       "\n",
       "   Flatness  VoxelFaceArea    GreyMass  \n",
       "0  0.628266       221096.0   3540000.0  \n",
       "1  0.550686       460792.0  24700000.0  "
      ]
     },
     "execution_count": 62,
     "metadata": {},
     "output_type": "execute_result"
    }
   ],
   "source": [
    "mechanical_filt = mechanical_filt.drop(['BorderVoxelCount', 'index', 'EigenVal1', 'EigenVal2', 'EigenVal3', 'EigenVec1X', 'EigenVec1Y', 'EigenVec1Z', 'EigenVec2X', 'EigenVec2Y', 'EigenVec2Z','EigenVec3X', 'EigenVec3Y', 'EigenVec3Z', 'ExtentMin1', 'ExtentMin2', 'ExtentMin3', 'ExtentMax1','ExtentMax2','ExtentMax3', 'BinMom2x', 'BinMom2y', 'BinMom2z', 'BinMomxy', 'BinMomxz', 'BinMomyz'], axis = 1)\n",
    "nitric_filt = nitric_filt.drop(['BorderVoxelCount', 'index', 'EigenVal1', 'EigenVal2', 'EigenVal3', 'EigenVec1X', 'EigenVec1Y', 'EigenVec1Z', 'EigenVec2X', 'EigenVec2Y', 'EigenVec2Z', 'EigenVec3X', 'EigenVec3Y', 'EigenVec3Z', 'ExtentMin1', 'ExtentMin2', 'ExtentMin3', 'ExtentMax1','ExtentMax2','ExtentMax3', 'BinMom2x', 'BinMom2y', 'BinMom2z', 'BinMomxy', 'BinMomxz', 'BinMomyz'], axis = 1)\n",
    "sulfuric_filt = sulfuric_filt.drop(['BorderVoxelCount', 'index', 'EigenVal1', 'EigenVal2', 'EigenVal3', 'EigenVec1X', 'EigenVec1Y', 'EigenVec1Z', 'EigenVec2X', 'EigenVec2Y', 'EigenVec2Z','EigenVec3X', 'EigenVec3Y', 'EigenVec3Z', 'ExtentMin1', 'ExtentMin2', 'ExtentMin3', 'ExtentMax1','ExtentMax2','ExtentMax3','BinMom2x', 'BinMom2y', 'BinMom2z', 'BinMomxy', 'BinMomxz', 'BinMomyz'], axis = 1)\n",
    "green_filt = green_filt.drop(['BorderVoxelCount', 'index', 'EigenVal1', 'EigenVal2', 'EigenVal3', 'EigenVec1X', 'EigenVec1Y', 'EigenVec1Z', 'EigenVec2X', 'EigenVec2Y', 'EigenVec2Z','EigenVec3X', 'EigenVec3Y', 'EigenVec3Z', 'ExtentMin1', 'ExtentMin2', 'ExtentMin3', 'ExtentMax1','ExtentMax2','ExtentMax3','BinMom2x', 'BinMom2y', 'BinMom2z', 'BinMomxy', 'BinMomxz', 'BinMomyz'], axis = 1)\n",
    "pink_filt = pink_filt.drop(['BorderVoxelCount', 'index', 'EigenVal1', 'EigenVal2', 'EigenVal3', 'EigenVec1X', 'EigenVec1Y', 'EigenVec1Z', 'EigenVec2X', 'EigenVec2Y', 'EigenVec2Z','EigenVec3X', 'EigenVec3Y', 'EigenVec3Z', 'ExtentMin1', 'ExtentMin2', 'ExtentMin3', 'ExtentMax1','ExtentMax2','ExtentMax3', 'BinMom2x', 'BinMom2y', 'BinMom2z', 'BinMomxy', 'BinMomxz', 'BinMomyz'], axis = 1)\n",
    "\n",
    "pink_filt.head(2)"
   ]
  },
  {
   "cell_type": "markdown",
   "metadata": {},
   "source": [
    "### Pores Equivalent Diameter\n",
    "\n",
    "Compute Equivalent Diameter as cube_root((6/3.14)*volume)"
   ]
  },
  {
   "cell_type": "code",
   "execution_count": 63,
   "metadata": {},
   "outputs": [],
   "source": [
    "def compute_eqDiameter(table):\n",
    "    return np.cbrt(6*table['Volume3d']/np.pi)\n",
    "\n",
    "\n",
    "def compute_volumeFraction(table):\n",
    "    return table['Volume3d']/boundingBoxVolume"
   ]
  },
  {
   "cell_type": "code",
   "execution_count": 64,
   "metadata": {},
   "outputs": [
    {
     "data": {
      "text/html": [
       "<div>\n",
       "<style scoped>\n",
       "    .dataframe tbody tr th:only-of-type {\n",
       "        vertical-align: middle;\n",
       "    }\n",
       "\n",
       "    .dataframe tbody tr th {\n",
       "        vertical-align: top;\n",
       "    }\n",
       "\n",
       "    .dataframe thead th {\n",
       "        text-align: right;\n",
       "    }\n",
       "</style>\n",
       "<table border=\"1\" class=\"dataframe\">\n",
       "  <thead>\n",
       "    <tr style=\"text-align: right;\">\n",
       "      <th></th>\n",
       "      <th>Volume3d</th>\n",
       "      <th>BaryCenterX</th>\n",
       "      <th>BaryCenterY</th>\n",
       "      <th>BaryCenterZ</th>\n",
       "      <th>Anisotropy</th>\n",
       "      <th>Elongation</th>\n",
       "      <th>Flatness</th>\n",
       "      <th>VoxelFaceArea</th>\n",
       "      <th>GreyMass</th>\n",
       "      <th>EqDiameter</th>\n",
       "    </tr>\n",
       "  </thead>\n",
       "  <tbody>\n",
       "    <tr>\n",
       "      <th>0</th>\n",
       "      <td>348072.0</td>\n",
       "      <td>2794.56</td>\n",
       "      <td>2911.65</td>\n",
       "      <td>52.7270</td>\n",
       "      <td>0.423501</td>\n",
       "      <td>0.737198</td>\n",
       "      <td>0.782014</td>\n",
       "      <td>39128.0</td>\n",
       "      <td>348072.0</td>\n",
       "      <td>87.275060</td>\n",
       "    </tr>\n",
       "    <tr>\n",
       "      <th>1</th>\n",
       "      <td>230288.0</td>\n",
       "      <td>2560.86</td>\n",
       "      <td>3232.19</td>\n",
       "      <td>34.7108</td>\n",
       "      <td>0.374766</td>\n",
       "      <td>0.820018</td>\n",
       "      <td>0.762464</td>\n",
       "      <td>27400.0</td>\n",
       "      <td>460576.0</td>\n",
       "      <td>76.048543</td>\n",
       "    </tr>\n",
       "  </tbody>\n",
       "</table>\n",
       "</div>"
      ],
      "text/plain": [
       "   Volume3d  BaryCenterX  BaryCenterY  BaryCenterZ  Anisotropy  Elongation  \\\n",
       "0  348072.0      2794.56      2911.65      52.7270    0.423501    0.737198   \n",
       "1  230288.0      2560.86      3232.19      34.7108    0.374766    0.820018   \n",
       "\n",
       "   Flatness  VoxelFaceArea  GreyMass  EqDiameter  \n",
       "0  0.782014        39128.0  348072.0   87.275060  \n",
       "1  0.762464        27400.0  460576.0   76.048543  "
      ]
     },
     "execution_count": 64,
     "metadata": {},
     "output_type": "execute_result"
    }
   ],
   "source": [
    "eqDiam_mechanical = compute_eqDiameter(mechanical_filt)\n",
    "eqDiam_nitric = compute_eqDiameter(nitric_filt)\n",
    "eqDiam_sulfuric = compute_eqDiameter(sulfuric_filt)\n",
    "eqDiam_green = compute_eqDiameter(green_filt)\n",
    "eqDiam_pink = compute_eqDiameter(pink_filt)\n",
    "\n",
    "# Add columns to DataFrame\n",
    "mechanical_filt['EqDiameter'] = pd.Series(eqDiam_mechanical, name ='EqDiameter')\n",
    "nitric_filt['EqDiameter'] = pd.Series(eqDiam_nitric, name ='EqDiameter')\n",
    "sulfuric_filt['EqDiameter'] = pd.Series(eqDiam_sulfuric, name ='EqDiameter')\n",
    "green_filt['EqDiameter'] = pd.Series(eqDiam_green, name ='EqDiameter')\n",
    "pink_filt['EqDiameter'] = pd.Series(eqDiam_pink, name ='EqDiameter')\n",
    "mechanical_filt.head(2)"
   ]
  },
  {
   "cell_type": "markdown",
   "metadata": {},
   "source": [
    "### Export csv file for Francesco's analysis"
   ]
  },
  {
   "cell_type": "code",
   "execution_count": 65,
   "metadata": {},
   "outputs": [],
   "source": [
    "mechanical_filt.to_csv('Mechanical_FiltAnalysis.csv')\n",
    "nitric_filt.to_csv('Nitric_FiltAnalysis.csv')\n",
    "sulfuric_filt.to_csv('Sulfuric_FiltAnalysis.csv')\n",
    "pink_filt.to_csv('Pink_FiltAnalysis.csv')\n",
    "green_filt.to_csv('Green_FiltAnalysis.csv')"
   ]
  },
  {
   "cell_type": "markdown",
   "metadata": {},
   "source": [
    "Mechanical averages"
   ]
  },
  {
   "cell_type": "code",
   "execution_count": null,
   "metadata": {},
   "outputs": [],
   "source": []
  },
  {
   "cell_type": "code",
   "execution_count": 66,
   "metadata": {},
   "outputs": [
    {
     "name": "stdout",
     "output_type": "stream",
     "text": [
      "Mechanical volume: 4264584.244716352+/-14008006.476716131 um3\n",
      "Mechanical surface area: 156258.7764182425+/-273811.8241889454 um2\n",
      "Mechanical eq diameter: 134.47928621421315+/-97.95737773095658 um\n",
      "Mechanical anisotropy: 0.572279958676307+/-0.1640652385174657\n",
      "Mechanical elongation: 0.6025105795050056+/-0.19053167467833332\n",
      "Mechanical flatness: 0.7052237043103449+/-0.1510186342906922\n"
     ]
    }
   ],
   "source": [
    "mechanical_vol3d_avg = mechanical_filt['Volume3d'].mean()\n",
    "mechanical_vol3d_std = mechanical_filt['Volume3d'].std()\n",
    "mechanical_surfarea_avg = mechanical_filt['VoxelFaceArea'].mean()\n",
    "mechanical_surfarea_std = mechanical_filt['VoxelFaceArea'].std()\n",
    "mechanical_eqDiam_avg = mechanical_filt['EqDiameter'].mean()\n",
    "mechanical_eqDiam_std = mechanical_filt['EqDiameter'].std()\n",
    "mechanical_anis_avg = mechanical_filt['Anisotropy'].mean()\n",
    "mechanical_anis_std = mechanical_filt['Anisotropy'].std()\n",
    "mechanical_elong_avg = mechanical_filt['Elongation'].mean()\n",
    "mechanical_elong_std = mechanical_filt['Elongation'].std()\n",
    "mechanical_flat_avg = mechanical_filt['Flatness'].mean()\n",
    "mechanical_flat_std = mechanical_filt['Flatness'].std()\n",
    "\n",
    "print('Mechanical volume: ' + str(mechanical_vol3d_avg) + '+/-' + str(mechanical_vol3d_std) + ' um3')\n",
    "print('Mechanical surface area: ' + str(mechanical_surfarea_avg) + '+/-' + str(mechanical_surfarea_std)+ ' um2')\n",
    "print('Mechanical eq diameter: ' + str(mechanical_eqDiam_avg) + '+/-' + str(mechanical_eqDiam_std)+ ' um')\n",
    "print('Mechanical anisotropy: ' + str(mechanical_anis_avg) + '+/-' + str(mechanical_anis_std))\n",
    "print('Mechanical elongation: ' + str(mechanical_elong_avg) + '+/-' + str(mechanical_elong_std))\n",
    "print('Mechanical flatness: ' + str(mechanical_flat_avg) + '+/-' + str(mechanical_flat_std))"
   ]
  },
  {
   "cell_type": "code",
   "execution_count": 67,
   "metadata": {},
   "outputs": [
    {
     "name": "stdout",
     "output_type": "stream",
     "text": [
      "Sulfuric volume: 3317807.619126819+/-5228987.652793317 um3\n",
      "Sulfuric surface area: 156500.7767151767+/-142278.03422541107 um2\n",
      "Sulfuric eq diameter: 158.2905766504722+/-66.53916975726409 um\n",
      "Sulfuric anisotropy: 0.49298145434511437+/-0.1109046128600931\n",
      "Sulfuric elongation: 0.6480461716839917+/-0.1347319802698384\n",
      "Sulfuric flatness: 0.7878588428274429+/-0.1033768075232463\n"
     ]
    }
   ],
   "source": [
    "sulfuric_vol3d_avg = sulfuric_filt['Volume3d'].mean()\n",
    "sulfuric_vol3d_std = sulfuric_filt['Volume3d'].std()\n",
    "sulfuric_surfarea_avg = sulfuric_filt['VoxelFaceArea'].mean()\n",
    "sulfuric_surfarea_std = sulfuric_filt['VoxelFaceArea'].std()\n",
    "sulfuric_eqDiam_avg = sulfuric_filt['EqDiameter'].mean()\n",
    "sulfuric_eqDiam_std = sulfuric_filt['EqDiameter'].std()\n",
    "sulfuric_anis_avg = sulfuric_filt['Anisotropy'].mean()\n",
    "sulfuric_anis_std = sulfuric_filt['Anisotropy'].std()\n",
    "sulfuric_elong_avg = sulfuric_filt['Elongation'].mean()\n",
    "sulfuric_elong_std = sulfuric_filt['Elongation'].std()\n",
    "sulfuric_flat_avg = sulfuric_filt['Flatness'].mean()\n",
    "sulfuric_flat_std = sulfuric_filt['Flatness'].std()\n",
    "\n",
    "print('Sulfuric volume: ' + str(sulfuric_vol3d_avg) + '+/-' + str(sulfuric_vol3d_std) + ' um3')\n",
    "print('Sulfuric surface area: ' + str(sulfuric_surfarea_avg) + '+/-' + str(sulfuric_surfarea_std)+ ' um2')\n",
    "print('Sulfuric eq diameter: ' + str(sulfuric_eqDiam_avg) + '+/-' + str(sulfuric_eqDiam_std)+ ' um')\n",
    "print('Sulfuric anisotropy: ' + str(sulfuric_anis_avg) + '+/-' + str(sulfuric_anis_std))\n",
    "print('Sulfuric elongation: ' + str(sulfuric_elong_avg) + '+/-' + str(sulfuric_elong_std))\n",
    "print('Sulfuric flatness: ' + str(sulfuric_flat_avg) + '+/-' + str(sulfuric_flat_std))"
   ]
  },
  {
   "cell_type": "code",
   "execution_count": 68,
   "metadata": {},
   "outputs": [
    {
     "name": "stdout",
     "output_type": "stream",
     "text": [
      "Nitric volume: 17015906.287220027+/-28564411.916448403 um3\n",
      "Nitric surface area: 471516.97496706195+/-481418.29795506375 um2\n",
      "Nitric eq diameter: 259.7479514856383+/-133.08071190437903 um\n",
      "Nitric anisotropy: 0.6583641488801054+/-0.138785379819238\n",
      "Nitric elongation: 0.6047121870882741+/-0.1686836257947496\n",
      "Nitric flatness: 0.5725380105401845+/-0.17006552883609508\n"
     ]
    }
   ],
   "source": [
    "nitric_vol3d_avg = nitric_filt['Volume3d'].mean()\n",
    "nitric_vol3d_std = nitric_filt['Volume3d'].std()\n",
    "nitric_surfarea_avg = nitric_filt['VoxelFaceArea'].mean()\n",
    "nitric_surfarea_std = nitric_filt['VoxelFaceArea'].std()\n",
    "nitric_eqDiam_avg = nitric_filt['EqDiameter'].mean()\n",
    "nitric_eqDiam_std = nitric_filt['EqDiameter'].std()\n",
    "nitric_anis_avg = nitric_filt['Anisotropy'].mean()\n",
    "nitric_anis_std = nitric_filt['Anisotropy'].std()\n",
    "nitric_elong_avg = nitric_filt['Elongation'].mean()\n",
    "nitric_elong_std = nitric_filt['Elongation'].std()\n",
    "nitric_flat_avg = nitric_filt['Flatness'].mean()\n",
    "nitric_flat_std = nitric_filt['Flatness'].std()\n",
    "\n",
    "print('Nitric volume: ' + str(nitric_vol3d_avg) + '+/-' + str(nitric_vol3d_std) + ' um3')\n",
    "print('Nitric surface area: ' + str(nitric_surfarea_avg) + '+/-' + str(nitric_surfarea_std)+ ' um2')\n",
    "print('Nitric eq diameter: ' + str(nitric_eqDiam_avg) + '+/-' + str(nitric_eqDiam_std)+ ' um')\n",
    "print('Nitric anisotropy: ' + str(nitric_anis_avg) + '+/-' + str(nitric_anis_std))\n",
    "print('Nitric elongation: ' + str(nitric_elong_avg) + '+/-' + str(nitric_elong_std))\n",
    "print('Nitric flatness: ' + str(nitric_flat_avg) + '+/-' + str(nitric_flat_std))"
   ]
  },
  {
   "cell_type": "code",
   "execution_count": 69,
   "metadata": {},
   "outputs": [
    {
     "name": "stdout",
     "output_type": "stream",
     "text": [
      "Green volume: 37441502.348082595\n",
      "Green surface area: 676726.7964601769\n",
      "Green eq diameter: 268.62353912074803\n",
      "Green anisotropy: 0.677774563421829\n",
      "Green elongation: 0.5130769702064897\n",
      "Green flatness: 0.6001198303834808\n"
     ]
    }
   ],
   "source": [
    "green_vol3d_avg = green_filt['Volume3d'].mean()\n",
    "green_surfarea_avg = green_filt['VoxelFaceArea'].mean()\n",
    "green_eqDiam_avg = green_filt['EqDiameter'].mean()\n",
    "green_anis_avg = green_filt['Anisotropy'].mean()\n",
    "green_elong_avg = green_filt['Elongation'].mean()\n",
    "green_flat_avg = green_filt['Flatness'].mean()\n",
    "\n",
    "print('Green volume: ' + str(green_vol3d_avg))\n",
    "print('Green surface area: ' + str(green_surfarea_avg) )\n",
    "print('Green eq diameter: ' + str(green_eqDiam_avg) )\n",
    "print('Green anisotropy: ' + str(green_anis_avg))\n",
    "print('Green elongation: ' + str(green_elong_avg) )\n",
    "print('Green flatness: ' + str(green_flat_avg) )"
   ]
  },
  {
   "cell_type": "code",
   "execution_count": 70,
   "metadata": {},
   "outputs": [
    {
     "ename": "KeyError",
     "evalue": "'EqDiameter'",
     "output_type": "error",
     "traceback": [
      "\u001b[1;31m---------------------------------------------------------------------------\u001b[0m",
      "\u001b[1;31mKeyError\u001b[0m                                  Traceback (most recent call last)",
      "File \u001b[1;32mc:\\Users\\giulia.saccomano\\AppData\\Local\\Programs\\Python\\Python311\\Lib\\site-packages\\pandas\\core\\indexes\\base.py:3790\u001b[0m, in \u001b[0;36mIndex.get_loc\u001b[1;34m(self, key)\u001b[0m\n\u001b[0;32m   3789\u001b[0m \u001b[39mtry\u001b[39;00m:\n\u001b[1;32m-> 3790\u001b[0m     \u001b[39mreturn\u001b[39;00m \u001b[39mself\u001b[39;49m\u001b[39m.\u001b[39;49m_engine\u001b[39m.\u001b[39;49mget_loc(casted_key)\n\u001b[0;32m   3791\u001b[0m \u001b[39mexcept\u001b[39;00m \u001b[39mKeyError\u001b[39;00m \u001b[39mas\u001b[39;00m err:\n",
      "File \u001b[1;32mindex.pyx:152\u001b[0m, in \u001b[0;36mpandas._libs.index.IndexEngine.get_loc\u001b[1;34m()\u001b[0m\n",
      "File \u001b[1;32mindex.pyx:181\u001b[0m, in \u001b[0;36mpandas._libs.index.IndexEngine.get_loc\u001b[1;34m()\u001b[0m\n",
      "File \u001b[1;32mpandas\\_libs\\hashtable_class_helper.pxi:7080\u001b[0m, in \u001b[0;36mpandas._libs.hashtable.PyObjectHashTable.get_item\u001b[1;34m()\u001b[0m\n",
      "File \u001b[1;32mpandas\\_libs\\hashtable_class_helper.pxi:7088\u001b[0m, in \u001b[0;36mpandas._libs.hashtable.PyObjectHashTable.get_item\u001b[1;34m()\u001b[0m\n",
      "\u001b[1;31mKeyError\u001b[0m: 'EqDiameter'",
      "\nThe above exception was the direct cause of the following exception:\n",
      "\u001b[1;31mKeyError\u001b[0m                                  Traceback (most recent call last)",
      "\u001b[1;32mc:\\Users\\giulia.saccomano\\Documents\\Extra\\Tannin Foams\\tanninFoams_quantitativeDTIanalysis_part1.ipynb Cell 23\u001b[0m line \u001b[0;36m3\n\u001b[0;32m      <a href='vscode-notebook-cell:/c%3A/Users/giulia.saccomano/Documents/Extra/Tannin%20Foams/tanninFoams_quantitativeDTIanalysis_part1.ipynb#X30sZmlsZQ%3D%3D?line=0'>1</a>\u001b[0m pink_vol3d_avg \u001b[39m=\u001b[39m pink[\u001b[39m'\u001b[39m\u001b[39mVolume3d\u001b[39m\u001b[39m'\u001b[39m]\u001b[39m.\u001b[39mmean()\n\u001b[0;32m      <a href='vscode-notebook-cell:/c%3A/Users/giulia.saccomano/Documents/Extra/Tannin%20Foams/tanninFoams_quantitativeDTIanalysis_part1.ipynb#X30sZmlsZQ%3D%3D?line=1'>2</a>\u001b[0m pink_surfarea_avg \u001b[39m=\u001b[39m pink[\u001b[39m'\u001b[39m\u001b[39mVoxelFaceArea\u001b[39m\u001b[39m'\u001b[39m]\u001b[39m.\u001b[39mmean()\n\u001b[1;32m----> <a href='vscode-notebook-cell:/c%3A/Users/giulia.saccomano/Documents/Extra/Tannin%20Foams/tanninFoams_quantitativeDTIanalysis_part1.ipynb#X30sZmlsZQ%3D%3D?line=2'>3</a>\u001b[0m pink_eqDiam_avg \u001b[39m=\u001b[39m pink[\u001b[39m'\u001b[39;49m\u001b[39mEqDiameter\u001b[39;49m\u001b[39m'\u001b[39;49m]\u001b[39m.\u001b[39mmean()\n\u001b[0;32m      <a href='vscode-notebook-cell:/c%3A/Users/giulia.saccomano/Documents/Extra/Tannin%20Foams/tanninFoams_quantitativeDTIanalysis_part1.ipynb#X30sZmlsZQ%3D%3D?line=3'>4</a>\u001b[0m pink_anis_avg \u001b[39m=\u001b[39m pink[\u001b[39m'\u001b[39m\u001b[39mAnisotropy\u001b[39m\u001b[39m'\u001b[39m]\u001b[39m.\u001b[39mmean()\n\u001b[0;32m      <a href='vscode-notebook-cell:/c%3A/Users/giulia.saccomano/Documents/Extra/Tannin%20Foams/tanninFoams_quantitativeDTIanalysis_part1.ipynb#X30sZmlsZQ%3D%3D?line=4'>5</a>\u001b[0m pink_elong_avg \u001b[39m=\u001b[39m pink[\u001b[39m'\u001b[39m\u001b[39mElongation\u001b[39m\u001b[39m'\u001b[39m]\u001b[39m.\u001b[39mmean()\n",
      "File \u001b[1;32mc:\\Users\\giulia.saccomano\\AppData\\Local\\Programs\\Python\\Python311\\Lib\\site-packages\\pandas\\core\\frame.py:3896\u001b[0m, in \u001b[0;36mDataFrame.__getitem__\u001b[1;34m(self, key)\u001b[0m\n\u001b[0;32m   3894\u001b[0m \u001b[39mif\u001b[39;00m \u001b[39mself\u001b[39m\u001b[39m.\u001b[39mcolumns\u001b[39m.\u001b[39mnlevels \u001b[39m>\u001b[39m \u001b[39m1\u001b[39m:\n\u001b[0;32m   3895\u001b[0m     \u001b[39mreturn\u001b[39;00m \u001b[39mself\u001b[39m\u001b[39m.\u001b[39m_getitem_multilevel(key)\n\u001b[1;32m-> 3896\u001b[0m indexer \u001b[39m=\u001b[39m \u001b[39mself\u001b[39;49m\u001b[39m.\u001b[39;49mcolumns\u001b[39m.\u001b[39;49mget_loc(key)\n\u001b[0;32m   3897\u001b[0m \u001b[39mif\u001b[39;00m is_integer(indexer):\n\u001b[0;32m   3898\u001b[0m     indexer \u001b[39m=\u001b[39m [indexer]\n",
      "File \u001b[1;32mc:\\Users\\giulia.saccomano\\AppData\\Local\\Programs\\Python\\Python311\\Lib\\site-packages\\pandas\\core\\indexes\\base.py:3797\u001b[0m, in \u001b[0;36mIndex.get_loc\u001b[1;34m(self, key)\u001b[0m\n\u001b[0;32m   3792\u001b[0m     \u001b[39mif\u001b[39;00m \u001b[39misinstance\u001b[39m(casted_key, \u001b[39mslice\u001b[39m) \u001b[39mor\u001b[39;00m (\n\u001b[0;32m   3793\u001b[0m         \u001b[39misinstance\u001b[39m(casted_key, abc\u001b[39m.\u001b[39mIterable)\n\u001b[0;32m   3794\u001b[0m         \u001b[39mand\u001b[39;00m \u001b[39many\u001b[39m(\u001b[39misinstance\u001b[39m(x, \u001b[39mslice\u001b[39m) \u001b[39mfor\u001b[39;00m x \u001b[39min\u001b[39;00m casted_key)\n\u001b[0;32m   3795\u001b[0m     ):\n\u001b[0;32m   3796\u001b[0m         \u001b[39mraise\u001b[39;00m InvalidIndexError(key)\n\u001b[1;32m-> 3797\u001b[0m     \u001b[39mraise\u001b[39;00m \u001b[39mKeyError\u001b[39;00m(key) \u001b[39mfrom\u001b[39;00m \u001b[39merr\u001b[39;00m\n\u001b[0;32m   3798\u001b[0m \u001b[39mexcept\u001b[39;00m \u001b[39mTypeError\u001b[39;00m:\n\u001b[0;32m   3799\u001b[0m     \u001b[39m# If we have a listlike key, _check_indexing_error will raise\u001b[39;00m\n\u001b[0;32m   3800\u001b[0m     \u001b[39m#  InvalidIndexError. Otherwise we fall through and re-raise\u001b[39;00m\n\u001b[0;32m   3801\u001b[0m     \u001b[39m#  the TypeError.\u001b[39;00m\n\u001b[0;32m   3802\u001b[0m     \u001b[39mself\u001b[39m\u001b[39m.\u001b[39m_check_indexing_error(key)\n",
      "\u001b[1;31mKeyError\u001b[0m: 'EqDiameter'"
     ]
    }
   ],
   "source": [
    "pink_vol3d_avg = pink['Volume3d'].mean()\n",
    "pink_surfarea_avg = pink['VoxelFaceArea'].mean()\n",
    "pink_eqDiam_avg = pink['EqDiameter'].mean()\n",
    "pink_anis_avg = pink['Anisotropy'].mean()\n",
    "pink_elong_avg = pink['Elongation'].mean()\n",
    "pink_flat_avg = pink['Flatness'].mean()\n",
    "\n",
    "print('Pink volume: ' + str(pink_vol3d_avg))\n",
    "print('Pink surface area: ' + str(pink_surfarea_avg) )\n",
    "print('Pink eq diameter: ' + str(pink_eqDiam_avg) )\n",
    "print('Pink anisotropy: ' + str(pink_anis_avg))\n",
    "print('Pink elongation: ' + str(pink_elong_avg) )\n",
    "print('Pink flatness: ' + str(pink_flat_avg) )"
   ]
  },
  {
   "cell_type": "markdown",
   "metadata": {},
   "source": [
    "## Basic Statistics on Foams parameters\n",
    "\n",
    "- Average Volume3d\n",
    "- Average Eq Diameter"
   ]
  },
  {
   "cell_type": "code",
   "execution_count": null,
   "metadata": {},
   "outputs": [],
   "source": [
    "list_samples = ['Mechanical', 'Nitric', 'Sulfuric']"
   ]
  },
  {
   "cell_type": "markdown",
   "metadata": {},
   "source": [
    "- Average Volume3d"
   ]
  },
  {
   "cell_type": "code",
   "execution_count": null,
   "metadata": {},
   "outputs": [
    {
     "name": "stdout",
     "output_type": "stream",
     "text": [
      "count    7.590000e+02\n",
      "mean     1.701591e+07\n",
      "std      2.856441e+07\n",
      "min      1.216000e+03\n",
      "25%      3.060000e+06\n",
      "50%      9.020000e+06\n",
      "75%      1.900000e+07\n",
      "max      3.480000e+08\n",
      "Name: Volume3d, dtype: float64\n"
     ]
    }
   ],
   "source": [
    "# Volume 3d\n",
    "basicVolume_mechanical = mechanical['Volume3d'].describe()\n",
    "#print(basicVolume_mechanical)\n",
    "basicVolume_nitric = nitric['Volume3d'].describe()\n",
    "print(basicVolume_nitric)\n",
    "basicVolume_sulfuric = sulfuric['Volume3d'].describe()\n",
    "#print(basicVolume_sulfuric)\n",
    "\n",
    "average_volumes3d = [basicVolume_mechanical['mean'], basicVolume_nitric['mean'], basicVolume_sulfuric['mean']]\n",
    "std_volumes3d = [basicVolume_mechanical['std'], basicVolume_nitric['std'], basicVolume_sulfuric['std']]"
   ]
  },
  {
   "cell_type": "markdown",
   "metadata": {},
   "source": [
    "- Average EqDiameter"
   ]
  },
  {
   "cell_type": "code",
   "execution_count": null,
   "metadata": {},
   "outputs": [
    {
     "name": "stdout",
     "output_type": "stream",
     "text": [
      "count    759.000000\n",
      "mean     259.747951\n",
      "std      133.080712\n",
      "min       13.242754\n",
      "25%      180.125114\n",
      "50%      258.267230\n",
      "75%      331.068855\n",
      "max      872.690417\n",
      "Name: EqDiameter, dtype: float64\n"
     ]
    }
   ],
   "source": [
    "basicEqDiameter_mechanical = mechanical['EqDiameter'].describe()\n",
    "basicEqDiameter_nitric = nitric['EqDiameter'].describe()\n",
    "print(basicEqDiameter_nitric)\n",
    "basicEqDiameter_sulfuric = sulfuric['EqDiameter'].describe()\n",
    "\n",
    "average_eqDiameter = [basicEqDiameter_mechanical['mean'], basicEqDiameter_nitric['mean'], basicEqDiameter_sulfuric['mean']]\n",
    "std_eqDiameter = [basicEqDiameter_mechanical['std'], basicEqDiameter_nitric['std'], basicEqDiameter_sulfuric['std']]"
   ]
  }
 ],
 "metadata": {
  "kernelspec": {
   "display_name": "Python 3 (ipykernel)",
   "language": "python",
   "name": "python3"
  },
  "language_info": {
   "codemirror_mode": {
    "name": "ipython",
    "version": 3
   },
   "file_extension": ".py",
   "mimetype": "text/x-python",
   "name": "python",
   "nbconvert_exporter": "python",
   "pygments_lexer": "ipython3",
   "version": "3.11.4"
  }
 },
 "nbformat": 4,
 "nbformat_minor": 2
}
